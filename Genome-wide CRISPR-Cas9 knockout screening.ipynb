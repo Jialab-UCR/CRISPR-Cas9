{
 "cells": [
  {
   "cell_type": "code",
   "execution_count": null,
   "metadata": {
    "collapsed": true
   },
   "outputs": [],
   "source": []
  },
  {
   "cell_type": "code",
   "execution_count": 2,
   "metadata": {
    "collapsed": true
   },
   "outputs": [],
   "source": [
    "import re\n",
    "import os\n",
    "import gzip\n",
    "\n",
    "import HTSeq\n",
    "\n",
    "from collections import defaultdict\n",
    "from collections import OrderedDict\n",
    "\n",
    "import matplotlib.pyplot as plt"
   ]
  },
  {
   "cell_type": "code",
   "execution_count": null,
   "metadata": {
    "collapsed": true
   },
   "outputs": [],
   "source": []
  },
  {
   "cell_type": "markdown",
   "metadata": {},
   "source": [
    "## Remove 3' and 5' linkers using cutadapt"
   ]
  },
  {
   "cell_type": "code",
   "execution_count": 32,
   "metadata": {
    "collapsed": false
   },
   "outputs": [
    {
     "name": "stdout",
     "output_type": "stream",
     "text": [
      "3' adapter:CGAAACACCG\n"
     ]
    }
   ],
   "source": [
    "adapter1 = input('3\\' adapter:')"
   ]
  },
  {
   "cell_type": "code",
   "execution_count": 33,
   "metadata": {
    "collapsed": false
   },
   "outputs": [
    {
     "name": "stdout",
     "output_type": "stream",
     "text": [
      "5' adapter:GTTTTAGAGC\n"
     ]
    }
   ],
   "source": [
    "adapter2 = input('5\\' adapter:')"
   ]
  },
  {
   "cell_type": "code",
   "execution_count": 4,
   "metadata": {
    "collapsed": false
   },
   "outputs": [],
   "source": [
    "adapter = adapter1+'...'+adapter2"
   ]
  },
  {
   "cell_type": "code",
   "execution_count": 5,
   "metadata": {
    "collapsed": false
   },
   "outputs": [
    {
     "data": {
      "text/plain": [
       "'CGAAACACCG...GTTTTAGAGC'"
      ]
     },
     "execution_count": 5,
     "metadata": {},
     "output_type": "execute_result"
    }
   ],
   "source": [
    "adapter"
   ]
  },
  {
   "cell_type": "code",
   "execution_count": 11,
   "metadata": {
    "collapsed": true
   },
   "outputs": [],
   "source": []
  },
  {
   "cell_type": "code",
   "execution_count": 12,
   "metadata": {
    "collapsed": false
   },
   "outputs": [
    {
     "data": {
      "text/plain": [
       "0"
      ]
     },
     "execution_count": 12,
     "metadata": {},
     "output_type": "execute_result"
    }
   ],
   "source": [
    "os.system('cutadapt -j 2 -g ' + adapter + ' -e 0.1 --no-indels \\\n",
    "          -o crispr.sample.cutadapt.fq.gz \\\n",
    "          crispr.sample.fq.gz \\\n",
    "          > crispr.sample.report.txt')"
   ]
  },
  {
   "cell_type": "code",
   "execution_count": null,
   "metadata": {
    "collapsed": true
   },
   "outputs": [],
   "source": []
  },
  {
   "cell_type": "markdown",
   "metadata": {},
   "source": [
    "## Length distribution of the processed reads"
   ]
  },
  {
   "cell_type": "code",
   "execution_count": 3,
   "metadata": {
    "collapsed": false
   },
   "outputs": [],
   "source": [
    "i = 0\n",
    "\n",
    "stat = {}\n",
    "\n",
    "with gzip.open('crispr.sample.cutadapt.fq.gz', 'rt') as f:\n",
    "    for line in f:\n",
    "        line = line.rstrip()\n",
    "        i += 1\n",
    "        \n",
    "        if i % 4 == 2:\n",
    "            if len(line) not in stat.keys():\n",
    "                stat[len(line)] = 0\n",
    "            stat[len(line)] += 1"
   ]
  },
  {
   "cell_type": "code",
   "execution_count": 9,
   "metadata": {
    "collapsed": false
   },
   "outputs": [
    {
     "data": {
      "text/plain": [
       "[(20, 4012),\n",
       " (19, 328),\n",
       " (21, 60),\n",
       " (16, 58),\n",
       " (22, 14),\n",
       " (18, 11),\n",
       " (28, 6),\n",
       " (15, 4),\n",
       " (17, 4),\n",
       " (30, 4),\n",
       " (31, 4),\n",
       " (25, 3),\n",
       " (26, 3),\n",
       " (1, 1),\n",
       " (35, 1),\n",
       " (38, 1),\n",
       " (49, 1),\n",
       " (8, 1),\n",
       " (24, 1),\n",
       " (29, 1)]"
      ]
     },
     "execution_count": 9,
     "metadata": {},
     "output_type": "execute_result"
    }
   ],
   "source": [
    "sorted(stat.items(), key=lambda x:x[1], reverse=True)"
   ]
  },
  {
   "cell_type": "code",
   "execution_count": null,
   "metadata": {
    "collapsed": true
   },
   "outputs": [],
   "source": []
  },
  {
   "cell_type": "code",
   "execution_count": 6,
   "metadata": {
    "collapsed": false
   },
   "outputs": [
    {
     "data": {
      "text/plain": [
       "<Container object of 20 artists>"
      ]
     },
     "execution_count": 6,
     "metadata": {},
     "output_type": "execute_result"
    },
    {
     "data": {
      "image/png": "[encoded data removed]",
      "text/plain": [
       "<matplotlib.figure.Figure at 0x7fd5d1bfe358>"
      ]
     },
     "metadata": {},
     "output_type": "display_data"
    }
   ],
   "source": [
    "%matplotlib inline\n",
    "\n",
    "plt.bar(list(stat.keys()), list(stat.values()), align='center', color='blue')"
   ]
  },
  {
   "cell_type": "code",
   "execution_count": null,
   "metadata": {
    "collapsed": true
   },
   "outputs": [],
   "source": []
  },
  {
   "cell_type": "markdown",
   "metadata": {},
   "source": [
    "## Only keep reads of 20nt"
   ]
  },
  {
   "cell_type": "code",
   "execution_count": 19,
   "metadata": {
    "collapsed": true
   },
   "outputs": [],
   "source": [
    "fh = gzip.open('crispr.sample.cutadapt.20.fq.gz', 'wt')\n",
    "\n",
    "i = 0\n",
    "with gzip.open('crispr.sample.cutadapt.fq.gz', 'rt') as f:\n",
    "    for line in f:\n",
    "        line = line.rstrip()\n",
    "        i += 1\n",
    "        \n",
    "        if i % 4 == 1:\n",
    "            seqID = line\n",
    "        \n",
    "        if i % 4 == 2:\n",
    "            seq = line\n",
    "            \n",
    "        if i % 4 == 0:\n",
    "            qual = line\n",
    "            \n",
    "            if len(line) == 20:\n",
    "                fh.write('\\n'.join([seqID, seq, '+', qual])+'\\n')\n",
    "            \n",
    "            #if len(line) in range(19,22):\n",
    "            #    fh.write('\\n'.join([seqID, seq, '+', qual])+'\\n')\n",
    "                \n",
    "fh.close()"
   ]
  },
  {
   "cell_type": "code",
   "execution_count": null,
   "metadata": {
    "collapsed": true
   },
   "outputs": [],
   "source": []
  },
  {
   "cell_type": "code",
   "execution_count": null,
   "metadata": {
    "collapsed": true
   },
   "outputs": [],
   "source": []
  },
  {
   "cell_type": "markdown",
   "metadata": {},
   "source": [
    "## Alignment using bowtie2"
   ]
  },
  {
   "cell_type": "markdown",
   "metadata": {},
   "source": [
    "### build index"
   ]
  },
  {
   "cell_type": "code",
   "execution_count": 33,
   "metadata": {
    "collapsed": false
   },
   "outputs": [
    {
     "data": {
      "text/plain": [
       "0"
      ]
     },
     "execution_count": 33,
     "metadata": {},
     "output_type": "execute_result"
    }
   ],
   "source": [
    "os.system('bowtie2-build GeckoV2_HGLib_All.fa GeckoV2_HGLib_All')"
   ]
  },
  {
   "cell_type": "markdown",
   "metadata": {},
   "source": [
    "### alignment"
   ]
  },
  {
   "cell_type": "code",
   "execution_count": 21,
   "metadata": {
    "collapsed": false
   },
   "outputs": [
    {
     "data": {
      "text/plain": [
       "0"
      ]
     },
     "execution_count": 21,
     "metadata": {},
     "output_type": "execute_result"
    }
   ],
   "source": [
    "os.system('bowtie2 -L 2O -N 1 -p 4 -x GeckoV2_HGLib_All \\\n",
    "        -U crispr.sample.cutadapt.20.fq.gz \\\n",
    "        -S crispr.sample.cutadapt.20.sam')"
   ]
  },
  {
   "cell_type": "code",
   "execution_count": null,
   "metadata": {
    "collapsed": true
   },
   "outputs": [],
   "source": []
  },
  {
   "cell_type": "markdown",
   "metadata": {},
   "source": [
    "## Count the number of mapped sgRNAs for each gene by HTSeq"
   ]
  },
  {
   "cell_type": "code",
   "execution_count": 8,
   "metadata": {
    "collapsed": true
   },
   "outputs": [],
   "source": [
    "X = HTSeq.SAM_Reader( \"crispr.sample.cutadapt.20.sam\")\n",
    "counts = defaultdict( lambda: 0 )\n",
    "for almnt in X:\n",
    "    if almnt.aligned:\n",
    "        counts[almnt.iv.chrom] += 1"
   ]
  },
  {
   "cell_type": "code",
   "execution_count": 9,
   "metadata": {
    "collapsed": false
   },
   "outputs": [
    {
     "data": {
      "text/plain": [
       "[('hsa-mir-1181|HGLibA_57216|TGTAGTCCACCATCTTGCCT', 68),\n",
       " ('MIER2|HGLibA_29256|TCTCTGCGAGGTTGAACTGA', 67),\n",
       " ('DAO|HGLibA_12309|AATAAACTCACCCGTAATCT', 66),\n",
       " ('PIM2|HGLibA_36679|AGCCACGGCGTAGGTCTATC', 60),\n",
       " ('SLC2A4|HGLibA_44876|TACCTGAGTAGGCGCCAATG', 51),\n",
       " ('NIF3L1|HGLibA_31930|TCTCATATTCGCTTAGCCCT', 50),\n",
       " ('CTSO|HGLibA_11726|GAAAACTCCACCGCCTTCTA', 45),\n",
       " ('GRIK4|HGLibA_20289|TGGAACTTGACGAACTCCTC', 41),\n",
       " ('RSPO3|HGLibA_42349|GTGCATCCTAACGTTAGTCA', 40),\n",
       " ('hsa-mir-15a|HGLibA_57939|TGTGCTGCTACTTTACTCCA', 38)]"
      ]
     },
     "execution_count": 9,
     "metadata": {},
     "output_type": "execute_result"
    }
   ],
   "source": [
    "sorted(counts.items(), key=lambda x:x[1], reverse=True)[:10]"
   ]
  },
  {
   "cell_type": "code",
   "execution_count": null,
   "metadata": {
    "collapsed": true
   },
   "outputs": [],
   "source": []
  },
  {
   "cell_type": "markdown",
   "metadata": {},
   "source": [
    "## Report counts data"
   ]
  },
  {
   "cell_type": "code",
   "execution_count": 11,
   "metadata": {
    "collapsed": false
   },
   "outputs": [],
   "source": [
    "ko = OrderedDict()\n",
    "ctrl = OrderedDict()\n",
    "with open('GeckoV2_HGLib_All.fa') as f:\n",
    "    for line in f:\n",
    "        line = line.rstrip()\n",
    "        if not line.startswith('>'):\n",
    "            continue\n",
    "            \n",
    "        line = line.replace('>', '')\n",
    "        lst = line.split('|')\n",
    "        \n",
    "        if lst[0].startswith('NonTargetingControlGuideForHuman'):\n",
    "            ctrl[line] = lst\n",
    "            \n",
    "        else:\n",
    "            ko[line] = lst\n",
    "            \n",
    "ko = OrderedDict(sorted(ko.items()))\n",
    "ctrl = OrderedDict(sorted(ctrl.items(), key=lambda x:x[1][0]))"
   ]
  },
  {
   "cell_type": "code",
   "execution_count": 14,
   "metadata": {
    "collapsed": false
   },
   "outputs": [
    {
     "data": {
      "text/plain": [
       "[('A1BG|HGLibA_00001|GTCGCTGAGCTCCGATTCGA',\n",
       "  ['A1BG', 'HGLibA_00001', 'GTCGCTGAGCTCCGATTCGA']),\n",
       " ('A1BG|HGLibA_00002|ACCTGTAGTTGCCGGCGTGC',\n",
       "  ['A1BG', 'HGLibA_00002', 'ACCTGTAGTTGCCGGCGTGC']),\n",
       " ('A1BG|HGLibA_00003|CGTCAGCGTCACATTGGCCA',\n",
       "  ['A1BG', 'HGLibA_00003', 'CGTCAGCGTCACATTGGCCA']),\n",
       " ('A1BG|HGLibB_00001|CAATGTGACGCTGACGTGCC',\n",
       "  ['A1BG', 'HGLibB_00001', 'CAATGTGACGCTGACGTGCC']),\n",
       " ('A1BG|HGLibB_00002|TGTCTCCGCAGGTGTCACCT',\n",
       "  ['A1BG', 'HGLibB_00002', 'TGTCTCCGCAGGTGTCACCT']),\n",
       " ('A1BG|HGLibB_00003|CATATGGCTGCTTCTGTCAC',\n",
       "  ['A1BG', 'HGLibB_00003', 'CATATGGCTGCTTCTGTCAC']),\n",
       " ('A1CF|HGLibA_00004|CGCGCACTGGTCCAGCGCAC',\n",
       "  ['A1CF', 'HGLibA_00004', 'CGCGCACTGGTCCAGCGCAC']),\n",
       " ('A1CF|HGLibA_00005|CCAAGCTATATCCTGTGCGC',\n",
       "  ['A1CF', 'HGLibA_00005', 'CCAAGCTATATCCTGTGCGC']),\n",
       " ('A1CF|HGLibA_00006|AAGTTGCTTGATTGCATTCT',\n",
       "  ['A1CF', 'HGLibA_00006', 'AAGTTGCTTGATTGCATTCT']),\n",
       " ('A1CF|HGLibB_00004|GGTGCAGCATCCCAACCAGG',\n",
       "  ['A1CF', 'HGLibB_00004', 'GGTGCAGCATCCCAACCAGG'])]"
      ]
     },
     "execution_count": 14,
     "metadata": {},
     "output_type": "execute_result"
    }
   ],
   "source": [
    "list(ko.items())[:10]"
   ]
  },
  {
   "cell_type": "code",
   "execution_count": null,
   "metadata": {
    "collapsed": true
   },
   "outputs": [],
   "source": []
  },
  {
   "cell_type": "code",
   "execution_count": 32,
   "metadata": {
    "collapsed": true
   },
   "outputs": [],
   "source": [
    "fh = open('crispr.sample.cutadapt.20.Counts', 'wt')\n",
    "\n",
    "\n",
    "for ke in ko.keys():\n",
    "    iid = ke.replace('|', '\\t')\n",
    "    \n",
    "    if ke not in counts.keys():\n",
    "        fh.write(iid+'\\t'+'0'+'\\n')\n",
    "        \n",
    "    else:\n",
    "        fh.write(iid+'\\t'+str(counts[ke])+'\\n')\n",
    "        \n",
    "        \n",
    "for ke in ctrl.keys():\n",
    "    iid = ke.replace('|', '\\t')\n",
    "    \n",
    "    if ke not in counts.keys():\n",
    "        fh.write(iid+'\\t'+'0'+'\\n')\n",
    "        \n",
    "    else:\n",
    "        fh.write(iid+'\\t'+str(counts[ke])+'\\n')\n",
    "\n",
    "        \n",
    "fh.close()"
   ]
  },
  {
   "cell_type": "code",
   "execution_count": null,
   "metadata": {
    "collapsed": true
   },
   "outputs": [],
   "source": []
  },
  {
   "cell_type": "code",
   "execution_count": null,
   "metadata": {
    "collapsed": true
   },
   "outputs": [],
   "source": []
  }
 ],
 "metadata": {
  "kernelspec": {
   "display_name": "Python [Root]",
   "language": "python",
   "name": "Python [Root]"
  },
  "language_info": {
   "codemirror_mode": {
    "name": "ipython",
    "version": 3
   },
   "file_extension": ".py",
   "mimetype": "text/x-python",
   "name": "python",
   "nbconvert_exporter": "python",
   "pygments_lexer": "ipython3",
   "version": "3.5.2"
  }
 },
 "nbformat": 4,
 "nbformat_minor": 0
}
